{
 "cells": [
  {
   "cell_type": "markdown",
   "id": "e5a1da89-cbc3-4ea3-9e72-be987dc1fc19",
   "metadata": {},
   "source": [
    "We are currently working in the following directory:"
   ]
  },
  {
   "cell_type": "code",
   "execution_count": 1,
   "id": "d2b6d5e1-5f50-4df5-8927-9e7daf1583ad",
   "metadata": {
    "tags": []
   },
   "outputs": [
    {
     "name": "stdout",
     "output_type": "stream",
     "text": [
      "/Users/apple/Downloads/student 7/jupyterlab_practice\n"
     ]
    }
   ],
   "source": [
    "!pwd"
   ]
  },
  {
   "cell_type": "markdown",
   "id": "86bf7976-34c1-424e-9390-6b7784c7d667",
   "metadata": {},
   "source": [
    "To time how long it takes to run a Python cell, we could use the timeit command inside a cell as is shown below: Followed by the proper use of the timeit command to time the following loop:"
   ]
  },
  {
   "cell_type": "code",
   "execution_count": 2,
   "id": "016c9bad-0c02-41e9-87a1-0dba5f04664a",
   "metadata": {
    "tags": []
   },
   "outputs": [
    {
     "name": "stdout",
     "output_type": "stream",
     "text": [
      "113 ms ± 4.63 ms per loop (mean ± std. dev. of 7 runs, 10 loops each)\n"
     ]
    }
   ],
   "source": [
    "%%timeit\n",
    "for i in range(1_000_000):\n",
    "    (i - 0.1)**2"
   ]
  },
  {
   "cell_type": "markdown",
   "id": "60119145-dfcf-41a8-afa9-837034fb98b7",
   "metadata": {},
   "source": [
    "File -> Save and Export Notebook As... -> HTML"
   ]
  },
  {
   "cell_type": "code",
   "execution_count": null,
   "id": "abbe4509-dbb6-4e5b-bed0-a4a39a3e936b",
   "metadata": {},
   "outputs": [],
   "source": []
  }
 ],
 "metadata": {
  "kernelspec": {
   "display_name": "Python 3 (ipykernel)",
   "language": "python",
   "name": "python3"
  },
  "language_info": {
   "codemirror_mode": {
    "name": "ipython",
    "version": 3
   },
   "file_extension": ".py",
   "mimetype": "text/x-python",
   "name": "python",
   "nbconvert_exporter": "python",
   "pygments_lexer": "ipython3",
   "version": "3.11.5"
  }
 },
 "nbformat": 4,
 "nbformat_minor": 5
}
