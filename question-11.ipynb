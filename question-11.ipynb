{
 "cells": [
  {
   "cell_type": "markdown",
   "id": "60d6ba22-a965-4afa-bcf4-b240c60e94fe",
   "metadata": {},
   "source": [
    "# Shubbhankar P Tomar\n",
    "# \"Notebook for assignment 7\""
   ]
  },
  {
   "cell_type": "code",
   "execution_count": 1,
   "id": "f14bbfb8-c1a6-4e31-9457-bedf43c27f6c",
   "metadata": {
    "tags": []
   },
   "outputs": [
    {
     "name": "stdout",
     "output_type": "stream",
     "text": [
      "5.0\n"
     ]
    }
   ],
   "source": [
    "def compute_mean(numbers):\n",
    "    mean = sum(numbers) / len(numbers)\n",
    "    return mean\n",
    "\n",
    "#function with a list [2, 4, 6, 8]\n",
    "result = compute_mean([2, 4, 6, 8])\n",
    "print(result)\n"
   ]
  },
  {
   "cell_type": "markdown",
   "id": "50298304-6010-4ea1-a5eb-1e5793a4c557",
   "metadata": {
    "tags": []
   },
   "source": [
    "`The formula to calculate mean:It takes the sum of the number in the list and divides them by the count of those numbers '\n",
    "\n",
    "$$ \\bar{x} = \\frac{x_1 + x_2 + \\ldots + x_n}{n} = \\frac{1}{n} \\sum_{i=1}^{n} x_i $$\n"
   ]
  },
  {
   "cell_type": "markdown",
   "id": "987e85f2-0f09-4d4b-8454-2943a9b919df",
   "metadata": {},
   "source": [
    "![question-11](http://localhost:8888/files/Downloads/student%207/jupyterlab_practice/images/question-11_2023-12-11%20at%2000.30.55.png?_xsrf=2%7Cf853a94a%7Cfa7982b43ffbdb222dd0d74ada062d4c%7C1700200581)"
   ]
  },
  {
   "cell_type": "markdown",
   "id": "f6aff6fe-7861-4b92-91d5-c544a799767a",
   "metadata": {},
   "source": []
  }
 ],
 "metadata": {
  "kernelspec": {
   "display_name": "Python 3 (ipykernel)",
   "language": "python",
   "name": "python3"
  },
  "language_info": {
   "codemirror_mode": {
    "name": "ipython",
    "version": 3
   },
   "file_extension": ".py",
   "mimetype": "text/x-python",
   "name": "python",
   "nbconvert_exporter": "python",
   "pygments_lexer": "ipython3",
   "version": "3.11.5"
  }
 },
 "nbformat": 4,
 "nbformat_minor": 5
}
