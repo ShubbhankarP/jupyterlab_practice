{
 "cells": [
  {
   "cell_type": "markdown",
   "id": "60d6ba22-a965-4afa-bcf4-b240c60e94fe",
   "metadata": {},
   "source": [
    "# Shubbhankar P Tomar\n",
    "# \"Notebook for assignment 7\""
   ]
  },
  {
   "cell_type": "code",
   "execution_count": 1,
   "id": "f14bbfb8-c1a6-4e31-9457-bedf43c27f6c",
   "metadata": {
    "tags": []
   },
   "outputs": [
    {
     "name": "stdout",
     "output_type": "stream",
     "text": [
      "5.0\n"
     ]
    }
   ],
   "source": [
    "def compute_mean(numbers):\n",
    "    mean = sum(numbers) / len(numbers)\n",
    "    return mean\n",
    "\n",
    "#function with a list [2, 4, 6, 8]\n",
    "result = compute_mean([2, 4, 6, 8])\n",
    "print(result)\n"
   ]
  },
  {
   "cell_type": "markdown",
   "id": "50298304-6010-4ea1-a5eb-1e5793a4c557",
   "metadata": {
    "tags": []
   },
   "source": [
    "`The formula to calculate mean:It takes the sum of the number in the list and divides them by the count of those numbers '\n",
    "\n",
    "$$ \\bar{x} = \\frac{x_1 + x_2 + \\ldots + x_n}{n} = \\frac{1}{n} \\sum_{i=1}^{n} x_i $$\n"
   ]
  },
  {
   "cell_type": "code",
   "execution_count": null,
   "id": "7b061c1f-ea52-4ade-8a56-8da26dd2a3f9",
   "metadata": {},
   "outputs": [],
   "source": []
  }
 ],
 "metadata": {
  "kernelspec": {
   "display_name": "Python 3 (ipykernel)",
   "language": "python",
   "name": "python3"
  },
  "language_info": {
   "codemirror_mode": {
    "name": "ipython",
    "version": 3
   },
   "file_extension": ".py",
   "mimetype": "text/x-python",
   "name": "python",
   "nbconvert_exporter": "python",
   "pygments_lexer": "ipython3",
   "version": "3.11.5"
  }
 },
 "nbformat": 4,
 "nbformat_minor": 5
}
